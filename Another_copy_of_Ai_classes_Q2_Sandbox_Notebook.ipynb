{
  "nbformat": 4,
  "nbformat_minor": 0,
  "metadata": {
    "colab": {
      "provenance": [],
      "include_colab_link": true
    },
    "kernelspec": {
      "name": "python3",
      "display_name": "Python 3"
    },
    "language_info": {
      "name": "python"
    }
  },
  "cells": [
    {
      "cell_type": "markdown",
      "metadata": {
        "id": "view-in-github",
        "colab_type": "text"
      },
      "source": [
        "<a href=\"https://colab.research.google.com/github/peterstevogithub/machine-learning-experiments/blob/master/Another_copy_of_Ai_classes_Q2_Sandbox_Notebook.ipynb\" target=\"_parent\"><img src=\"https://colab.research.google.com/assets/colab-badge.svg\" alt=\"Open In Colab\"/></a>"
      ]
    },
    {
      "cell_type": "markdown",
      "source": [
        "## **Quarter 2: Python Programming Fundamentals**\n",
        "Goal: Develop a solid foundation in Python programming.\n",
        "\n",
        "1. **Python Fundamentals Reminders**\n",
        "- Introduction to Python & Setup\n",
        "\n",
        "Python is a high level programming language that is easy to read and write. Python can be used for web development, game development, data science, automation and AI\n",
        "\n",
        "- Variables & Data Types -  3 sessions & test understanding\n",
        "- Conditional Statements (If-Else)- 3 sessions\n",
        "- Loops (For & While) - 3 sessions\n",
        "\n",
        "\n",
        "\n",
        "Instructors:\n",
        "- Njoki\n",
        "- Loise\n",
        "- Lamech\n",
        "\n",
        "Instructor details:\n",
        "- email address:njoki6m@gmail.com\n",
        "\n",
        "Email on questions or sections about the classes that one is stuck in\n",
        "\n",
        "[Main_Notebook- Full curriculum ](https://colab.research.google.com/drive/1LcYJOHDmuZpULx7-lZOgAZYKxdX3vUNS#scrollTo=Osh_1oKZ19bz)"
      ],
      "metadata": {
        "id": "6QwGcWBLkCSi"
      }
    },
    {
      "cell_type": "code",
      "source": [
        "fruits=\"banana\"\n",
        "print(\"fruits\")\n",
        "print(fruits)"
      ],
      "metadata": {
        "id": "pHpoeSfh89gi",
        "colab": {
          "base_uri": "https://localhost:8080/"
        },
        "outputId": "6b789b74-8a0f-4496-a084-b08ae76e5179"
      },
      "execution_count": null,
      "outputs": [
        {
          "output_type": "stream",
          "name": "stdout",
          "text": [
            "fruits\n",
            "banana\n"
          ]
        }
      ]
    },
    {
      "cell_type": "code",
      "source": [
        "games=\"templerun\"\n",
        "print(\"games\")\n",
        "print(games)"
      ],
      "metadata": {
        "id": "DXgrvDQ-B3gH"
      },
      "execution_count": null,
      "outputs": []
    },
    {
      "cell_type": "code",
      "source": [
        "bestplayer=\"messi\"\n",
        "print(\"bestplayer\")\n",
        "print( bestplayer)"
      ],
      "metadata": {
        "id": "rwzoStUTB3LY"
      },
      "execution_count": null,
      "outputs": []
    },
    {
      "cell_type": "code",
      "source": [
        "name=\"morgan\"\n",
        "print(\"name\")\n",
        "print(name)"
      ],
      "metadata": {
        "id": "x765mXTJCau8"
      },
      "execution_count": null,
      "outputs": []
    },
    {
      "cell_type": "markdown",
      "source": [
        "### **Review of basic python print statement**\n",
        "#### **PRACTICE EXERCISES**\n",
        "Learning mode:\n",
        "Each student to create a copy of this Notebook. Links to students'copy of the sandbox notebook\n",
        "\n",
        "[Masoud]()\n",
        "\n",
        "[Morgan]()\n",
        "\n",
        "[Peter]()\n",
        "\n",
        "[Simon]()\n",
        "\n",
        "[Steve]()\n",
        "\n",
        "Colab flow:\n",
        "- What is colab\n",
        "-How is colab formatted:\n",
        "  1. code cells\n",
        "  2. Markdown cells\n",
        "  3. Running Notebooks\n",
        "\n",
        "\n",
        "####  **Week 1-3: Variables & Data Types- recap & practise**\n",
        "---\n",
        "\n",
        "\n"
      ],
      "metadata": {
        "id": "8O2eBQDHmg_G"
      }
    },
    {
      "cell_type": "markdown",
      "source": [
        "#### **Session 1: What is a Variable?**\n",
        "- Story analogy: variables as “containers” or “labeled boxes”\n",
        "- Live coding variables\n",
        "- Rules for naming\n",
        "- What happens when you overwrite\n",
        "\n",
        "Quick Exercise\n",
        "- Show different variables from real life\n",
        "- Group assignment: write 5 variables describing yourself\n",
        "\n",
        "---"
      ],
      "metadata": {
        "id": "ODJbhPJusHhW"
      }
    },
    {
      "cell_type": "code",
      "source": [
        "days=\"sunday\"\n",
        "cars=\"rangerover\"\n",
        "print(days)\n",
        "print(cars)"
      ],
      "metadata": {
        "id": "LtHNkw4Pmwh9",
        "outputId": "265d8a51-a699-4de1-d2e4-2004da8628fc",
        "colab": {
          "base_uri": "https://localhost:8080/"
        }
      },
      "execution_count": null,
      "outputs": [
        {
          "output_type": "stream",
          "name": "stdout",
          "text": [
            "sunday\n",
            "rangerover\n"
          ]
        }
      ]
    },
    {
      "cell_type": "markdown",
      "source": [
        "\n",
        "\n",
        "### Session 2: **Data Types by Example**\n",
        "**Goal:** Make each data type *tangible*.\n",
        "\n",
        "***Numeric Types***:\n",
        "  - int: Represents integers of unlimited length.\n",
        "  - float: Represents floating-point numbers with accuracy up to 15 decimal places.\n",
        "  - complex: Represents complex numbers with a real and imaginary part.\n",
        "\n",
        "***Sequence Types***:\n",
        "  - str: Represents a sequence of Unicode characters.\n",
        "  - list: Represents an ordered, mutable collection of items.\n",
        "  - tuple: Represents an ordered, immutable collection of items.\n",
        "  - range: Generates a sequence of numbers.\n",
        "\n",
        "***Mapping Type***\n",
        "  - dict: Represents a collection of key-value pairs.\n",
        "\n",
        "***Set Types:***\n",
        "  - set: Represents an unordered collection of unique elements.\n",
        "  - frozenset: Represents an immutable set.\n",
        "\n",
        "\n",
        "\n",
        "\n",
        "---\n",
        "### **Variables & Data types Practice**\n",
        "\n",
        "**Assignment:** Build  “own profile” using the 4 python data types\n",
        "create several print statements under you name\n",
        "  - Make an Introduction of yourself using the 4 data types learnt i.e. integers, floats, strings, booleans and lists all in one variable i.e your name\n",
        "  - Add the subjects you take in class to the created variable\n",
        "\n",
        "\n",
        "\n"
      ],
      "metadata": {
        "id": "3e8mrWPFkc7F"
      }
    },
    {
      "cell_type": "code",
      "execution_count": null,
      "metadata": {
        "id": "5xPel5mXkBNb"
      },
      "outputs": [],
      "source": [
        "days=(\"sunday\",\"monday\",\"tuesday\",\"wednesday\",\"thursday\",\"friday\",\"saturday\")\n",
        "type(days)\n"
      ]
    },
    {
      "cell_type": "code",
      "source": [
        "type(23144563272.756282314670467254627382)\n"
      ],
      "metadata": {
        "colab": {
          "base_uri": "https://localhost:8080/"
        },
        "id": "mPH0BNR0i5tP",
        "outputId": "09b045b0-4965-4e16-8a24-26fc7383a36f"
      },
      "execution_count": 7,
      "outputs": [
        {
          "output_type": "execute_result",
          "data": {
            "text/plain": [
              "float"
            ]
          },
          "metadata": {},
          "execution_count": 7
        }
      ]
    },
    {
      "cell_type": "code",
      "source": [
        "type(list)"
      ],
      "metadata": {
        "colab": {
          "base_uri": "https://localhost:8080/"
        },
        "id": "R0BsvkuXmu1x",
        "outputId": "c9139e42-ccc3-4390-9e1f-8899ba2d2b6d"
      },
      "execution_count": 10,
      "outputs": [
        {
          "output_type": "execute_result",
          "data": {
            "text/plain": [
              "type"
            ]
          },
          "metadata": {},
          "execution_count": 10
        }
      ]
    },
    {
      "cell_type": "code",
      "source": [
        "type(\"peter\")\n",
        "list=\"shopping list\"\n",
        "type(list)"
      ],
      "metadata": {
        "colab": {
          "base_uri": "https://localhost:8080/"
        },
        "id": "eQEh5q1glsuF",
        "outputId": "3251f748-f8c2-448c-9a26-c0031cee6b68"
      },
      "execution_count": 11,
      "outputs": [
        {
          "output_type": "execute_result",
          "data": {
            "text/plain": [
              "str"
            ]
          },
          "metadata": {},
          "execution_count": 11
        }
      ]
    },
    {
      "cell_type": "markdown",
      "source": [
        "#### **Session 3: Data types Continued**\n",
        "\n",
        "\n",
        "***Boolean Type:***\n",
        "  - bool: Represents either True or False.\n",
        "\n",
        "***Binary Types***:\n",
        "  - bytes: Represents immutable sequences of bytes.\n",
        "  - bytearray: Represents mutable sequences of bytes.\n",
        "  - memoryview: Provides a memory view of an object.\n",
        "\n",
        "\n",
        "\n",
        "\n",
        "- “**Guess the Type**”: You show `7.0`, `True`, `\"Kenya\"` → they shout type.\n",
        "- “**Code Charades**”: One student acts as a variable/data type.\n",
        "\n",
        "\n",
        "### 🧠 Final Assignment:\n",
        "“Build your AI Assistant’s brain” → Students design a profile using variables that would belong to a chatbot (e.g. `name`, `can_sing`, `commands`, `battery_life`).\n",
        "\n",
        "---\n"
      ],
      "metadata": {
        "id": "VjJog63RvhEa"
      }
    }
  ]
}